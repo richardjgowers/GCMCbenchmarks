{
 "cells": [
  {
   "cell_type": "markdown",
   "metadata": {},
   "source": [
    "Fugacity and chemical potential calculations\n",
    "--------------------------------------------\n",
    "\n",
    "From a range of starting pressures, this notebook calculates the fugacity and chemical potential of CO$_2$\n",
    "\n",
    "Fugacity $(f)$ is calculated from the Peng Robinson equation of state (PREoS) (`pr.fugacity_coeff`)\n",
    "\n",
    "$$\\Phi(T, P) = PREoS(T_C, P_C, \\omega, T, P) $$\n",
    "\n",
    "$$f = \\Phi P$$\n",
    "\n",
    "The thermal De Broglie wavelength is given by: (`pr.debroglie`)\n",
    "\n",
    "$$\\lambda = \\left(\\frac{h^2}{2 \\pi m k_b T}\\right)^{0.5}$$\n",
    "\n",
    "Chemical potential is calculated as (`pr.chempot`)\n",
    "\n",
    "$$\\mu = k_b T \\log\\left( \\frac{f \\lambda ^3}{k_b T}\\right)$$"
   ]
  },
  {
   "cell_type": "code",
   "execution_count": 1,
   "metadata": {
    "collapsed": true
   },
   "outputs": [],
   "source": [
    "from __future__ import division\n",
    "from scipy.constants import k, h, m_u, N_A, R\n",
    "import numpy as np\n",
    "from functools import partial"
   ]
  },
  {
   "cell_type": "code",
   "execution_count": 2,
   "metadata": {
    "collapsed": false
   },
   "outputs": [],
   "source": [
    "import pengrobinson as pr\n",
    "import co2"
   ]
  },
  {
   "cell_type": "code",
   "execution_count": 3,
   "metadata": {
    "collapsed": false
   },
   "outputs": [],
   "source": [
    "T = 208.0 # K\n",
    "pressures = [5000, 10000, 20000, 30000, 40000, 50000, 60000, 70000]\n",
    "\n",
    "lmb = pr.debroglie(co2.m, T)\n",
    "\n",
    "co2_fugacity = partial(pr.fugacity_coeff, T=T, Pc=co2.Pc, Tc=co2.Tc, omega=co2.omega)"
   ]
  },
  {
   "cell_type": "code",
   "execution_count": 4,
   "metadata": {
    "collapsed": false
   },
   "outputs": [
    {
     "name": "stdout",
     "output_type": "stream",
     "text": [
      "Pressure | Fugacity     |    Chemical potential   \n",
      "(kPa)    | (kPa)        | (J/mol)      | (K)         \n",
      "-----------------------------------------------------\n",
      "  5000.0 |    4996.0263 |  -31761.0427 |   -3819.9767\n",
      " 10000.0 |    9984.1066 |  -30563.6844 |   -3675.9676\n",
      " 20000.0 |   19936.4374 |  -29367.7046 |   -3532.1242\n",
      " 30000.0 |   29857.0090 |  -28669.2478 |   -3448.1191\n",
      " 40000.0 |   39745.8375 |  -28174.4894 |   -3388.6133\n",
      " 50000.0 |   49602.9390 |  -27791.3478 |   -3342.5320\n",
      " 60000.0 |   59428.3292 |  -27478.8076 |   -3304.9420\n",
      " 70000.0 |   69222.0236 |  -27214.9899 |   -3273.2120\n"
     ]
    }
   ],
   "source": [
    "print '{:8s} | {:12s} | {:^24s}'.format('Pressure', 'Fugacity', 'Chemical potential')\n",
    "print '{:8s} | {:12s} | {:12s} | {:12s}'.format('(kPa)', '(kPa)', '(J/mol)', '(K)')\n",
    "print '-' * (8 + 12 + 12 + 12 + 3*3)\n",
    "for P in pressures:\n",
    "    f = co2_fugacity(P) * P\n",
    "    mu = pr.chempot(f, T, lmb) * N_A\n",
    "    mu2 = mu / R\n",
    "    print '{:>8.1F} | {:>12.4F} | {:>12.4F} | {:>12.4F}'.format(P, f, mu, mu2)"
   ]
  },
  {
   "cell_type": "code",
   "execution_count": null,
   "metadata": {
    "collapsed": true
   },
   "outputs": [],
   "source": []
  }
 ],
 "metadata": {
  "kernelspec": {
   "display_name": "Python 2",
   "language": "python",
   "name": "python2"
  },
  "language_info": {
   "codemirror_mode": {
    "name": "ipython",
    "version": 2
   },
   "file_extension": ".py",
   "mimetype": "text/x-python",
   "name": "python",
   "nbconvert_exporter": "python",
   "pygments_lexer": "ipython2",
   "version": "2.7.11"
  }
 },
 "nbformat": 4,
 "nbformat_minor": 0
}
