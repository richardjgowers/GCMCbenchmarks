{
 "cells": [
  {
   "cell_type": "markdown",
   "metadata": {},
   "source": [
    "Fugacity and chemical potential calculations\n",
    "--------------------------------------------\n",
    "\n",
    "From a range of starting pressures, this notebook calculates the fugacity and chemical potential of CO$_2$\n",
    "\n",
    "Fugacity is calculated from the Peng Robinson equation of state\n",
    "\n",
    "$$\\Phi(T, P) = PREoS(T_C, P_C, \\omega, T, P) $$\n",
    "\n",
    "$$f = \\Phi P$$\n",
    "\n",
    "Chemical potential is calculated as\n",
    "\n",
    "$$\\lambda = \\left(\\frac{h^2}{2 \\pi m k_b T}\\right)^{0.5}$$\n",
    "\n",
    "$$\\mu = k_b T \\log\\left( \\frac{f \\lambda ^3}{k_b T}\\right)$$"
   ]
  },
  {
   "cell_type": "code",
   "execution_count": 2,
   "metadata": {
    "collapsed": true
   },
   "outputs": [],
   "source": [
    "from __future__ import division\n",
    "from scipy.constants import k, h, m_u, N_A, R\n",
    "import numpy as np\n",
    "from functools import partial"
   ]
  },
  {
   "cell_type": "code",
   "execution_count": 3,
   "metadata": {
    "collapsed": false
   },
   "outputs": [],
   "source": [
    "import pengrobinson as pr\n",
    "from co2 import *"
   ]
  },
  {
   "cell_type": "code",
   "execution_count": 9,
   "metadata": {
    "collapsed": false
   },
   "outputs": [],
   "source": [
    "T = 208.0 # K\n",
    "pressures = [5000, 10000, 20000, 30000, 40000, 50000, 60000, 70000]\n",
    "\n",
    "lmb = pr.debroglie(m, T)"
   ]
  },
  {
   "cell_type": "code",
   "execution_count": 5,
   "metadata": {
    "collapsed": false
   },
   "outputs": [],
   "source": [
    "co2_fugacity = partial(pr.fugacity_coeff, T=T, Pc=Pc, Tc=Tc, omega=omega)"
   ]
  },
  {
   "cell_type": "code",
   "execution_count": 47,
   "metadata": {
    "collapsed": false
   },
   "outputs": [
    {
     "name": "stdout",
     "output_type": "stream",
     "text": [
      "Pressure | Fugacity     | Chemical potential\n",
      "(kPa)    | (kPa)        | J/mol       \n",
      "-----------------------------------------\n",
      "  5000.0 |    4996.0263 |   -3819.9767\n",
      " 10000.0 |    9984.1066 |   -3675.9676\n",
      " 20000.0 |   19936.4374 |   -3532.1242\n",
      " 30000.0 |   29857.0090 |   -3448.1191\n",
      " 40000.0 |   39745.8375 |   -3388.6133\n",
      " 50000.0 |   49602.9390 |   -3342.5320\n",
      " 60000.0 |   59428.3292 |   -3304.9420\n",
      " 70000.0 |   69222.0236 |   -3273.2120\n"
     ]
    }
   ],
   "source": [
    "print '{:8s} | {:12s} | {:12s}'.format('Pressure', 'Fugacity', 'Chemical potential')\n",
    "print '{:8s} | {:12s} | {:12s}'.format('(kPa)', '(kPa)', 'J/mol')\n",
    "print '-' * (8 + 12 + 12 + 3*3)\n",
    "for P in pressures:\n",
    "    f = co2_fugacity(P) * P\n",
    "    mu = pr.chempot(f, T, lmb) * N_A / R\n",
    "    print '{:>8.1F} | {:>12.4F} | {:>12.4F}'.format(P, f, mu)"
   ]
  },
  {
   "cell_type": "code",
   "execution_count": null,
   "metadata": {
    "collapsed": true
   },
   "outputs": [],
   "source": [
    "-"
   ]
  }
 ],
 "metadata": {
  "kernelspec": {
   "display_name": "Python 2",
   "language": "python",
   "name": "python2"
  },
  "language_info": {
   "codemirror_mode": {
    "name": "ipython",
    "version": 2
   },
   "file_extension": ".py",
   "mimetype": "text/x-python",
   "name": "python",
   "nbconvert_exporter": "python",
   "pygments_lexer": "ipython2",
   "version": "2.7.11"
  }
 },
 "nbformat": 4,
 "nbformat_minor": 0
}
