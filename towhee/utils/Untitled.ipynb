{
 "cells": [
  {
   "cell_type": "code",
   "execution_count": 8,
   "metadata": {
    "collapsed": true
   },
   "outputs": [],
   "source": [
    "import MDAnalysis as mda\n",
    "from MDAnalysis.topology.core import guess_angles, guess_improper_dihedrals\n",
    "from MDAnalysis.core.topologyobjects import TopologyGroup"
   ]
  },
  {
   "cell_type": "code",
   "execution_count": 20,
   "metadata": {
    "collapsed": true
   },
   "outputs": [],
   "source": [
    "from towheebasic import write_basic, is_central"
   ]
  },
  {
   "cell_type": "code",
   "execution_count": 3,
   "metadata": {
    "collapsed": true
   },
   "outputs": [],
   "source": [
    "u = mda.Universe('out.pdb')"
   ]
  },
  {
   "cell_type": "code",
   "execution_count": 13,
   "metadata": {
    "collapsed": false
   },
   "outputs": [],
   "source": [
    "u.angles = TopologyGroup.from_indices(guess_angles(u.bonds), u.atoms)"
   ]
  },
  {
   "cell_type": "code",
   "execution_count": 29,
   "metadata": {
    "collapsed": false
   },
   "outputs": [],
   "source": [
    "u.impropers = TopologyGroup.from_indices(guess_improper_dihedrals(u.angles), u.atoms)"
   ]
  },
  {
   "cell_type": "code",
   "execution_count": 19,
   "metadata": {
    "collapsed": false
   },
   "outputs": [
    {
     "data": {
      "text/plain": [
       "<TopologyGroup containing 21 Dihedrals>"
      ]
     },
     "execution_count": 19,
     "metadata": {},
     "output_type": "execute_result"
    }
   ],
   "source": [
    "u.atoms[0].impropers"
   ]
  },
  {
   "cell_type": "code",
   "execution_count": 25,
   "metadata": {
    "collapsed": false
   },
   "outputs": [
    {
     "name": "stdout",
     "output_type": "stream",
     "text": [
      "[False, False, True, True, True, False, False, False, False, False, False, False, True, True, False, False, True, True, True, False, False, False, False, True, True, True, True, False, False, False, False, False, False, False, False, False, False, False, False, False, False, False, False, False, False, False, False, False]\n"
     ]
    }
   ],
   "source": [
    "print [is_central(u.atoms[1], i) for i in u.atoms[1].impropers]"
   ]
  },
  {
   "cell_type": "code",
   "execution_count": 30,
   "metadata": {
    "collapsed": false
   },
   "outputs": [
    {
     "data": {
      "text/plain": [
       "[<Dihedral between: Atom 1 (Zn of SYST-1), Atom 3 (O of SYST-1), Atom 2 (O of SYST-1), Atom 198 (O of SYST-1)>,\n",
       " <Dihedral between: Atom 1 (Zn of SYST-1), Atom 3 (O of SYST-1), Atom 2 (O of SYST-1), Atom 419 (O of SYST-1)>,\n",
       " <Dihedral between: Atom 1 (Zn of SYST-1), Atom 57 (Zn of SYST-1), Atom 105 (Zn of SYST-1), Atom 2 (O of SYST-1)>,\n",
       " <Dihedral between: Atom 1 (Zn of SYST-1), Atom 57 (Zn of SYST-1), Atom 247 (Zn of SYST-1), Atom 2 (O of SYST-1)>,\n",
       " <Dihedral between: Atom 1 (Zn of SYST-1), Atom 105 (Zn of SYST-1), Atom 247 (Zn of SYST-1), Atom 2 (O of SYST-1)>,\n",
       " <Dihedral between: Atom 1 (Zn of SYST-1), Atom 198 (O of SYST-1), Atom 2 (O of SYST-1), Atom 3 (O of SYST-1)>,\n",
       " <Dihedral between: Atom 1 (Zn of SYST-1), Atom 198 (O of SYST-1), Atom 2 (O of SYST-1), Atom 419 (O of SYST-1)>,\n",
       " <Dihedral between: Atom 1 (Zn of SYST-1), Atom 198 (O of SYST-1), Atom 3 (O of SYST-1), Atom 2 (O of SYST-1)>,\n",
       " <Dihedral between: Atom 1 (Zn of SYST-1), Atom 419 (O of SYST-1), Atom 2 (O of SYST-1), Atom 3 (O of SYST-1)>,\n",
       " <Dihedral between: Atom 1 (Zn of SYST-1), Atom 419 (O of SYST-1), Atom 2 (O of SYST-1), Atom 198 (O of SYST-1)>,\n",
       " <Dihedral between: Atom 1 (Zn of SYST-1), Atom 419 (O of SYST-1), Atom 3 (O of SYST-1), Atom 2 (O of SYST-1)>,\n",
       " <Dihedral between: Atom 1 (Zn of SYST-1), Atom 419 (O of SYST-1), Atom 198 (O of SYST-1), Atom 2 (O of SYST-1)>,\n",
       " <Dihedral between: Atom 2 (O of SYST-1), Atom 57 (Zn of SYST-1), Atom 1 (Zn of SYST-1), Atom 105 (Zn of SYST-1)>,\n",
       " <Dihedral between: Atom 2 (O of SYST-1), Atom 57 (Zn of SYST-1), Atom 1 (Zn of SYST-1), Atom 247 (Zn of SYST-1)>,\n",
       " <Dihedral between: Atom 2 (O of SYST-1), Atom 58 (O of SYST-1), Atom 174 (O of SYST-1), Atom 57 (Zn of SYST-1)>,\n",
       " <Dihedral between: Atom 2 (O of SYST-1), Atom 58 (O of SYST-1), Atom 298 (O of SYST-1), Atom 57 (Zn of SYST-1)>,\n",
       " <Dihedral between: Atom 2 (O of SYST-1), Atom 105 (Zn of SYST-1), Atom 1 (Zn of SYST-1), Atom 57 (Zn of SYST-1)>,\n",
       " <Dihedral between: Atom 2 (O of SYST-1), Atom 105 (Zn of SYST-1), Atom 1 (Zn of SYST-1), Atom 247 (Zn of SYST-1)>,\n",
       " <Dihedral between: Atom 2 (O of SYST-1), Atom 105 (Zn of SYST-1), Atom 57 (Zn of SYST-1), Atom 247 (Zn of SYST-1)>,\n",
       " <Dihedral between: Atom 2 (O of SYST-1), Atom 106 (O of SYST-1), Atom 213 (O of SYST-1), Atom 105 (Zn of SYST-1)>,\n",
       " <Dihedral between: Atom 2 (O of SYST-1), Atom 106 (O of SYST-1), Atom 316 (O of SYST-1), Atom 105 (Zn of SYST-1)>,\n",
       " <Dihedral between: Atom 2 (O of SYST-1), Atom 174 (O of SYST-1), Atom 298 (O of SYST-1), Atom 57 (Zn of SYST-1)>,\n",
       " <Dihedral between: Atom 2 (O of SYST-1), Atom 213 (O of SYST-1), Atom 316 (O of SYST-1), Atom 105 (Zn of SYST-1)>,\n",
       " <Dihedral between: Atom 2 (O of SYST-1), Atom 247 (Zn of SYST-1), Atom 1 (Zn of SYST-1), Atom 57 (Zn of SYST-1)>,\n",
       " <Dihedral between: Atom 2 (O of SYST-1), Atom 247 (Zn of SYST-1), Atom 1 (Zn of SYST-1), Atom 105 (Zn of SYST-1)>,\n",
       " <Dihedral between: Atom 2 (O of SYST-1), Atom 247 (Zn of SYST-1), Atom 57 (Zn of SYST-1), Atom 105 (Zn of SYST-1)>,\n",
       " <Dihedral between: Atom 2 (O of SYST-1), Atom 247 (Zn of SYST-1), Atom 105 (Zn of SYST-1), Atom 57 (Zn of SYST-1)>,\n",
       " <Dihedral between: Atom 2 (O of SYST-1), Atom 248 (O of SYST-1), Atom 337 (O of SYST-1), Atom 247 (Zn of SYST-1)>,\n",
       " <Dihedral between: Atom 2 (O of SYST-1), Atom 248 (O of SYST-1), Atom 376 (O of SYST-1), Atom 247 (Zn of SYST-1)>,\n",
       " <Dihedral between: Atom 2 (O of SYST-1), Atom 337 (O of SYST-1), Atom 376 (O of SYST-1), Atom 247 (Zn of SYST-1)>,\n",
       " <Dihedral between: Atom 57 (Zn of SYST-1), Atom 58 (O of SYST-1), Atom 2 (O of SYST-1), Atom 174 (O of SYST-1)>,\n",
       " <Dihedral between: Atom 57 (Zn of SYST-1), Atom 58 (O of SYST-1), Atom 2 (O of SYST-1), Atom 298 (O of SYST-1)>,\n",
       " <Dihedral between: Atom 57 (Zn of SYST-1), Atom 174 (O of SYST-1), Atom 2 (O of SYST-1), Atom 58 (O of SYST-1)>,\n",
       " <Dihedral between: Atom 57 (Zn of SYST-1), Atom 174 (O of SYST-1), Atom 2 (O of SYST-1), Atom 298 (O of SYST-1)>,\n",
       " <Dihedral between: Atom 57 (Zn of SYST-1), Atom 298 (O of SYST-1), Atom 2 (O of SYST-1), Atom 58 (O of SYST-1)>,\n",
       " <Dihedral between: Atom 57 (Zn of SYST-1), Atom 298 (O of SYST-1), Atom 2 (O of SYST-1), Atom 174 (O of SYST-1)>,\n",
       " <Dihedral between: Atom 105 (Zn of SYST-1), Atom 106 (O of SYST-1), Atom 2 (O of SYST-1), Atom 213 (O of SYST-1)>,\n",
       " <Dihedral between: Atom 105 (Zn of SYST-1), Atom 106 (O of SYST-1), Atom 2 (O of SYST-1), Atom 316 (O of SYST-1)>,\n",
       " <Dihedral between: Atom 105 (Zn of SYST-1), Atom 213 (O of SYST-1), Atom 2 (O of SYST-1), Atom 106 (O of SYST-1)>,\n",
       " <Dihedral between: Atom 105 (Zn of SYST-1), Atom 213 (O of SYST-1), Atom 2 (O of SYST-1), Atom 316 (O of SYST-1)>,\n",
       " <Dihedral between: Atom 105 (Zn of SYST-1), Atom 316 (O of SYST-1), Atom 2 (O of SYST-1), Atom 106 (O of SYST-1)>,\n",
       " <Dihedral between: Atom 105 (Zn of SYST-1), Atom 316 (O of SYST-1), Atom 2 (O of SYST-1), Atom 213 (O of SYST-1)>,\n",
       " <Dihedral between: Atom 247 (Zn of SYST-1), Atom 248 (O of SYST-1), Atom 2 (O of SYST-1), Atom 337 (O of SYST-1)>,\n",
       " <Dihedral between: Atom 247 (Zn of SYST-1), Atom 248 (O of SYST-1), Atom 2 (O of SYST-1), Atom 376 (O of SYST-1)>,\n",
       " <Dihedral between: Atom 247 (Zn of SYST-1), Atom 337 (O of SYST-1), Atom 2 (O of SYST-1), Atom 248 (O of SYST-1)>,\n",
       " <Dihedral between: Atom 247 (Zn of SYST-1), Atom 337 (O of SYST-1), Atom 2 (O of SYST-1), Atom 376 (O of SYST-1)>,\n",
       " <Dihedral between: Atom 247 (Zn of SYST-1), Atom 376 (O of SYST-1), Atom 2 (O of SYST-1), Atom 248 (O of SYST-1)>,\n",
       " <Dihedral between: Atom 247 (Zn of SYST-1), Atom 376 (O of SYST-1), Atom 2 (O of SYST-1), Atom 337 (O of SYST-1)>]"
      ]
     },
     "execution_count": 30,
     "metadata": {},
     "output_type": "execute_result"
    }
   ],
   "source": [
    "list(u.atoms[1].impropers)"
   ]
  },
  {
   "cell_type": "code",
   "execution_count": null,
   "metadata": {
    "collapsed": true
   },
   "outputs": [],
   "source": []
  }
 ],
 "metadata": {
  "kernelspec": {
   "display_name": "Python 2",
   "language": "python",
   "name": "python2"
  },
  "language_info": {
   "codemirror_mode": {
    "name": "ipython",
    "version": 2
   },
   "file_extension": ".py",
   "mimetype": "text/x-python",
   "name": "python",
   "nbconvert_exporter": "python",
   "pygments_lexer": "ipython2",
   "version": "2.7.6"
  }
 },
 "nbformat": 4,
 "nbformat_minor": 0
}
